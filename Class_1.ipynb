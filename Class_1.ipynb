{
  "nbformat": 4,
  "nbformat_minor": 0,
  "metadata": {
    "colab": {
      "name": "Class_1.ipynb",
      "provenance": [],
      "collapsed_sections": [],
      "authorship_tag": "ABX9TyPPMf+URN4Yg0J+WxjuyZHo",
      "include_colab_link": true
    },
    "kernelspec": {
      "name": "python3",
      "display_name": "Python 3"
    },
    "language_info": {
      "name": "python"
    }
  },
  "cells": [
    {
      "cell_type": "markdown",
      "metadata": {
        "id": "view-in-github",
        "colab_type": "text"
      },
      "source": [
        "<a href=\"https://colab.research.google.com/github/priyankak2712/Covid_20/blob/main/Class_1.ipynb\" target=\"_parent\"><img src=\"https://colab.research.google.com/assets/colab-badge.svg\" alt=\"Open In Colab\"/></a>"
      ]
    },
    {
      "cell_type": "code",
      "metadata": {
        "id": "zj9YLw26VRWv"
      },
      "source": [
        ""
      ],
      "execution_count": null,
      "outputs": []
    },
    {
      "cell_type": "markdown",
      "metadata": {
        "id": "OHJGIwvjWT6o"
      },
      "source": [
        "#Priyanka's Python class\n",
        "##Scalars\n"
      ]
    },
    {
      "cell_type": "code",
      "metadata": {
        "id": "BRO0JHuZXBCK"
      },
      "source": [
        "name = 'Priyanka'"
      ],
      "execution_count": 1,
      "outputs": []
    },
    {
      "cell_type": "code",
      "metadata": {
        "colab": {
          "base_uri": "https://localhost:8080/"
        },
        "id": "j5VBTHPiYfqN",
        "outputId": "9163945c-7401-42fb-8aaf-b34a91d64cc0"
      },
      "source": [
        "%who"
      ],
      "execution_count": 2,
      "outputs": [
        {
          "output_type": "stream",
          "text": [
            "name\t \n"
          ],
          "name": "stdout"
        }
      ]
    },
    {
      "cell_type": "code",
      "metadata": {
        "colab": {
          "base_uri": "https://localhost:8080/"
        },
        "id": "SkkxscW9Y_Nm",
        "outputId": "9477cd29-73e1-4632-e999-39e66434db2b"
      },
      "source": [
        "dir()"
      ],
      "execution_count": 3,
      "outputs": [
        {
          "output_type": "execute_result",
          "data": {
            "text/plain": [
              "['In',\n",
              " 'Out',\n",
              " '_',\n",
              " '__',\n",
              " '___',\n",
              " '__builtin__',\n",
              " '__builtins__',\n",
              " '__doc__',\n",
              " '__loader__',\n",
              " '__name__',\n",
              " '__package__',\n",
              " '__spec__',\n",
              " '_dh',\n",
              " '_i',\n",
              " '_i1',\n",
              " '_i2',\n",
              " '_i3',\n",
              " '_ih',\n",
              " '_ii',\n",
              " '_iii',\n",
              " '_oh',\n",
              " '_sh',\n",
              " 'exit',\n",
              " 'get_ipython',\n",
              " 'name',\n",
              " 'quit']"
            ]
          },
          "metadata": {
            "tags": []
          },
          "execution_count": 3
        }
      ]
    },
    {
      "cell_type": "code",
      "metadata": {
        "colab": {
          "base_uri": "https://localhost:8080/"
        },
        "id": "fqWd12K9ZH9p",
        "outputId": "2bed846e-3c05-4e9b-b81c-1543d629ae47"
      },
      "source": [
        "type(name)"
      ],
      "execution_count": 4,
      "outputs": [
        {
          "output_type": "execute_result",
          "data": {
            "text/plain": [
              "str"
            ]
          },
          "metadata": {
            "tags": []
          },
          "execution_count": 4
        }
      ]
    },
    {
      "cell_type": "code",
      "metadata": {
        "id": "1eRcZPFsZcSF"
      },
      "source": [
        "name =15"
      ],
      "execution_count": 5,
      "outputs": []
    },
    {
      "cell_type": "code",
      "metadata": {
        "colab": {
          "base_uri": "https://localhost:8080/"
        },
        "id": "SX69hY_tZtR-",
        "outputId": "d2cfc13b-a062-406f-d10b-fa05e2eacffc"
      },
      "source": [
        "name"
      ],
      "execution_count": 6,
      "outputs": [
        {
          "output_type": "execute_result",
          "data": {
            "text/plain": [
              "15"
            ]
          },
          "metadata": {
            "tags": []
          },
          "execution_count": 6
        }
      ]
    },
    {
      "cell_type": "code",
      "metadata": {
        "colab": {
          "base_uri": "https://localhost:8080/"
        },
        "id": "4wOQYr1uZxPS",
        "outputId": "6b1018b1-9ecc-4b2e-da28-9086efba3dee"
      },
      "source": [
        "type(name)"
      ],
      "execution_count": 7,
      "outputs": [
        {
          "output_type": "execute_result",
          "data": {
            "text/plain": [
              "int"
            ]
          },
          "metadata": {
            "tags": []
          },
          "execution_count": 7
        }
      ]
    },
    {
      "cell_type": "code",
      "metadata": {
        "id": "s4Om_b5GZ27i"
      },
      "source": [
        "name ='Priyanka'"
      ],
      "execution_count": 8,
      "outputs": []
    },
    {
      "cell_type": "code",
      "metadata": {
        "colab": {
          "base_uri": "https://localhost:8080/",
          "height": 35
        },
        "id": "IdQply8yaUe8",
        "outputId": "1cf7c951-4bee-46b1-d89d-1173a4363cb2"
      },
      "source": [
        "name.upper()"
      ],
      "execution_count": 9,
      "outputs": [
        {
          "output_type": "execute_result",
          "data": {
            "application/vnd.google.colaboratory.intrinsic+json": {
              "type": "string"
            },
            "text/plain": [
              "'PRIYANKA'"
            ]
          },
          "metadata": {
            "tags": []
          },
          "execution_count": 9
        }
      ]
    },
    {
      "cell_type": "code",
      "metadata": {
        "colab": {
          "base_uri": "https://localhost:8080/",
          "height": 35
        },
        "id": "WdeDyRD4ag9B",
        "outputId": "fb999f00-55b4-48d8-95aa-bf6709f18022"
      },
      "source": [
        "name * 4"
      ],
      "execution_count": 10,
      "outputs": [
        {
          "output_type": "execute_result",
          "data": {
            "application/vnd.google.colaboratory.intrinsic+json": {
              "type": "string"
            },
            "text/plain": [
              "'PriyankaPriyankaPriyankaPriyanka'"
            ]
          },
          "metadata": {
            "tags": []
          },
          "execution_count": 10
        }
      ]
    },
    {
      "cell_type": "code",
      "metadata": {
        "id": "6pmWg2KObATi"
      },
      "source": [
        "mesg = '''\n",
        "dear ग्राहक {}. Thank you for reaching \n",
        "{}. company\n",
        "'''.format('Priyanka','local flowers agency')"
      ],
      "execution_count": 17,
      "outputs": []
    },
    {
      "cell_type": "code",
      "metadata": {
        "id": "aKz5EDSAdcBA"
      },
      "source": [
        ""
      ],
      "execution_count": null,
      "outputs": []
    },
    {
      "cell_type": "code",
      "metadata": {
        "colab": {
          "base_uri": "https://localhost:8080/"
        },
        "id": "JyGcWo0bdBC7",
        "outputId": "0c06ad87-1da8-4146-8dc9-08288064eeb7"
      },
      "source": [
        "print(mesg)"
      ],
      "execution_count": 18,
      "outputs": [
        {
          "output_type": "stream",
          "text": [
            "\n",
            "dear ग्राहक Priyanka. Thank you for reaching \n",
            "local flowers agency. company\n",
            "\n"
          ],
          "name": "stdout"
        }
      ]
    },
    {
      "cell_type": "code",
      "metadata": {
        "colab": {
          "base_uri": "https://localhost:8080/",
          "height": 35
        },
        "id": "UDoAI6oAb_2Z",
        "outputId": "dd3580e6-c19b-4602-ee13-67d2efbeb24a"
      },
      "source": [
        "mesg"
      ],
      "execution_count": 12,
      "outputs": [
        {
          "output_type": "execute_result",
          "data": {
            "application/vnd.google.colaboratory.intrinsic+json": {
              "type": "string"
            },
            "text/plain": [
              "'\\ndear customer Priyanka Thank you for reaching \\nlocal flowers agency company\\n'"
            ]
          },
          "metadata": {
            "tags": []
          },
          "execution_count": 12
        }
      ]
    },
    {
      "cell_type": "code",
      "metadata": {
        "colab": {
          "base_uri": "https://localhost:8080/"
        },
        "id": "DLPe7jNrcCN7",
        "outputId": "6f8fd64d-ca1b-40e9-86aa-d9bc93d8dc39"
      },
      "source": [
        "print(mesg)"
      ],
      "execution_count": 16,
      "outputs": [
        {
          "output_type": "stream",
          "text": [
            "\n",
            "dear ग्राहक Priyanka. Thank you for reaching \n",
            "local flowers agency. company\n",
            "\n"
          ],
          "name": "stdout"
        }
      ]
    },
    {
      "cell_type": "code",
      "metadata": {
        "colab": {
          "base_uri": "https://localhost:8080/"
        },
        "id": "1UebKHujcGhl",
        "outputId": "88ac917e-9ea4-4725-97fd-04041b77445f"
      },
      "source": [
        "len(name)"
      ],
      "execution_count": 19,
      "outputs": [
        {
          "output_type": "execute_result",
          "data": {
            "text/plain": [
              "8"
            ]
          },
          "metadata": {
            "tags": []
          },
          "execution_count": 19
        }
      ]
    },
    {
      "cell_type": "code",
      "metadata": {
        "colab": {
          "base_uri": "https://localhost:8080/"
        },
        "id": "t0llJ6hvf83s",
        "outputId": "10cad6f6-4b0d-4863-9bdf-9fbec212cc4b"
      },
      "source": [
        "globals()"
      ],
      "execution_count": 21,
      "outputs": [
        {
          "output_type": "execute_result",
          "data": {
            "text/plain": [
              "{'In': ['',\n",
              "  \"name = 'Priyanka'\",\n",
              "  \"get_ipython().magic('who')\",\n",
              "  'dir()',\n",
              "  'type(name)',\n",
              "  'name =15',\n",
              "  'name',\n",
              "  'type(name)',\n",
              "  \"name ='Priyanka'\",\n",
              "  'name.upper()',\n",
              "  'name * 4',\n",
              "  'mesg = \"\"\"\\ndear customer %s Thank you for reaching \\n%s company\\n\"\"\" % (\\'Priyanka\\',\\'local flowers agency\\')',\n",
              "  'mesg',\n",
              "  'print(mesg)',\n",
              "  'mesg = \"\"\"\\ndear ग्राहक {}. Thank you for reaching \\n%s company\\n\"\"\".format(\\'Priyanka\\',\\'local flowers agency\\')',\n",
              "  'mesg = \"\"\"\\ndear ग्राहक {}. Thank you for reaching \\n{}. company\\n\"\"\".format(\\'Priyanka\\',\\'local flowers agency\\')',\n",
              "  'print(mesg)',\n",
              "  \"mesg = '''\\ndear ग्राहक {}. Thank you for reaching \\n{}. company\\n'''.format('Priyanka','local flowers agency')\",\n",
              "  'print(mesg)',\n",
              "  'len(name)',\n",
              "  'globals',\n",
              "  'globals()'],\n",
              " 'Out': {3: ['In',\n",
              "   'Out',\n",
              "   '_',\n",
              "   '__',\n",
              "   '___',\n",
              "   '__builtin__',\n",
              "   '__builtins__',\n",
              "   '__doc__',\n",
              "   '__loader__',\n",
              "   '__name__',\n",
              "   '__package__',\n",
              "   '__spec__',\n",
              "   '_dh',\n",
              "   '_i',\n",
              "   '_i1',\n",
              "   '_i2',\n",
              "   '_i3',\n",
              "   '_ih',\n",
              "   '_ii',\n",
              "   '_iii',\n",
              "   '_oh',\n",
              "   '_sh',\n",
              "   'exit',\n",
              "   'get_ipython',\n",
              "   'name',\n",
              "   'quit'],\n",
              "  4: str,\n",
              "  6: 15,\n",
              "  7: int,\n",
              "  9: 'PRIYANKA',\n",
              "  10: 'PriyankaPriyankaPriyankaPriyanka',\n",
              "  12: '\\ndear customer Priyanka Thank you for reaching \\nlocal flowers agency company\\n',\n",
              "  19: 8,\n",
              "  20: <function globals>},\n",
              " '_': <function globals>,\n",
              " '_10': 'PriyankaPriyankaPriyankaPriyanka',\n",
              " '_12': '\\ndear customer Priyanka Thank you for reaching \\nlocal flowers agency company\\n',\n",
              " '_19': 8,\n",
              " '_20': <function globals>,\n",
              " '_3': ['In',\n",
              "  'Out',\n",
              "  '_',\n",
              "  '__',\n",
              "  '___',\n",
              "  '__builtin__',\n",
              "  '__builtins__',\n",
              "  '__doc__',\n",
              "  '__loader__',\n",
              "  '__name__',\n",
              "  '__package__',\n",
              "  '__spec__',\n",
              "  '_dh',\n",
              "  '_i',\n",
              "  '_i1',\n",
              "  '_i2',\n",
              "  '_i3',\n",
              "  '_ih',\n",
              "  '_ii',\n",
              "  '_iii',\n",
              "  '_oh',\n",
              "  '_sh',\n",
              "  'exit',\n",
              "  'get_ipython',\n",
              "  'name',\n",
              "  'quit'],\n",
              " '_4': str,\n",
              " '_6': 15,\n",
              " '_7': int,\n",
              " '_9': 'PRIYANKA',\n",
              " '__': 8,\n",
              " '___': '\\ndear customer Priyanka Thank you for reaching \\nlocal flowers agency company\\n',\n",
              " '__builtin__': <module 'builtins' (built-in)>,\n",
              " '__builtins__': <module 'builtins' (built-in)>,\n",
              " '__doc__': 'Automatically created module for IPython interactive environment',\n",
              " '__loader__': None,\n",
              " '__name__': '__main__',\n",
              " '__package__': None,\n",
              " '__spec__': None,\n",
              " '_dh': ['/content'],\n",
              " '_i': 'globals',\n",
              " '_i1': \"name = 'Priyanka'\",\n",
              " '_i10': 'name * 4',\n",
              " '_i11': 'mesg = \"\"\"\\ndear customer %s Thank you for reaching \\n%s company\\n\"\"\" % (\\'Priyanka\\',\\'local flowers agency\\')',\n",
              " '_i12': 'mesg',\n",
              " '_i13': 'print(mesg)',\n",
              " '_i14': 'mesg = \"\"\"\\ndear ग्राहक {}. Thank you for reaching \\n%s company\\n\"\"\".format(\\'Priyanka\\',\\'local flowers agency\\')',\n",
              " '_i15': 'mesg = \"\"\"\\ndear ग्राहक {}. Thank you for reaching \\n{}. company\\n\"\"\".format(\\'Priyanka\\',\\'local flowers agency\\')',\n",
              " '_i16': 'print(mesg)',\n",
              " '_i17': \"mesg = '''\\ndear ग्राहक {}. Thank you for reaching \\n{}. company\\n'''.format('Priyanka','local flowers agency')\",\n",
              " '_i18': 'print(mesg)',\n",
              " '_i19': 'len(name)',\n",
              " '_i2': '%who',\n",
              " '_i20': 'globals',\n",
              " '_i21': 'globals()',\n",
              " '_i3': 'dir()',\n",
              " '_i4': 'type(name)',\n",
              " '_i5': 'name =15',\n",
              " '_i6': 'name',\n",
              " '_i7': 'type(name)',\n",
              " '_i8': \"name ='Priyanka'\",\n",
              " '_i9': 'name.upper()',\n",
              " '_ih': ['',\n",
              "  \"name = 'Priyanka'\",\n",
              "  \"get_ipython().magic('who')\",\n",
              "  'dir()',\n",
              "  'type(name)',\n",
              "  'name =15',\n",
              "  'name',\n",
              "  'type(name)',\n",
              "  \"name ='Priyanka'\",\n",
              "  'name.upper()',\n",
              "  'name * 4',\n",
              "  'mesg = \"\"\"\\ndear customer %s Thank you for reaching \\n%s company\\n\"\"\" % (\\'Priyanka\\',\\'local flowers agency\\')',\n",
              "  'mesg',\n",
              "  'print(mesg)',\n",
              "  'mesg = \"\"\"\\ndear ग्राहक {}. Thank you for reaching \\n%s company\\n\"\"\".format(\\'Priyanka\\',\\'local flowers agency\\')',\n",
              "  'mesg = \"\"\"\\ndear ग्राहक {}. Thank you for reaching \\n{}. company\\n\"\"\".format(\\'Priyanka\\',\\'local flowers agency\\')',\n",
              "  'print(mesg)',\n",
              "  \"mesg = '''\\ndear ग्राहक {}. Thank you for reaching \\n{}. company\\n'''.format('Priyanka','local flowers agency')\",\n",
              "  'print(mesg)',\n",
              "  'len(name)',\n",
              "  'globals',\n",
              "  'globals()'],\n",
              " '_ii': 'len(name)',\n",
              " '_iii': 'print(mesg)',\n",
              " '_oh': {3: ['In',\n",
              "   'Out',\n",
              "   '_',\n",
              "   '__',\n",
              "   '___',\n",
              "   '__builtin__',\n",
              "   '__builtins__',\n",
              "   '__doc__',\n",
              "   '__loader__',\n",
              "   '__name__',\n",
              "   '__package__',\n",
              "   '__spec__',\n",
              "   '_dh',\n",
              "   '_i',\n",
              "   '_i1',\n",
              "   '_i2',\n",
              "   '_i3',\n",
              "   '_ih',\n",
              "   '_ii',\n",
              "   '_iii',\n",
              "   '_oh',\n",
              "   '_sh',\n",
              "   'exit',\n",
              "   'get_ipython',\n",
              "   'name',\n",
              "   'quit'],\n",
              "  4: str,\n",
              "  6: 15,\n",
              "  7: int,\n",
              "  9: 'PRIYANKA',\n",
              "  10: 'PriyankaPriyankaPriyankaPriyanka',\n",
              "  12: '\\ndear customer Priyanka Thank you for reaching \\nlocal flowers agency company\\n',\n",
              "  19: 8,\n",
              "  20: <function globals>},\n",
              " '_sh': <module 'IPython.core.shadowns' from '/usr/local/lib/python3.7/dist-packages/IPython/core/shadowns.py'>,\n",
              " 'exit': <IPython.core.autocall.ZMQExitAutocall at 0x7f731806cb90>,\n",
              " 'get_ipython': <bound method InteractiveShell.get_ipython of <google.colab._shell.Shell object at 0x7f731a8da910>>,\n",
              " 'mesg': '\\ndear ग्राहक Priyanka. Thank you for reaching \\nlocal flowers agency. company\\n',\n",
              " 'name': 'Priyanka',\n",
              " 'quit': <IPython.core.autocall.ZMQExitAutocall at 0x7f731806cb90>}"
            ]
          },
          "metadata": {
            "tags": []
          },
          "execution_count": 21
        }
      ]
    },
    {
      "cell_type": "code",
      "metadata": {
        "colab": {
          "base_uri": "https://localhost:8080/",
          "height": 35
        },
        "id": "3zc7JqjHgN1B",
        "outputId": "1c73939b-44cd-4d6c-f6ed-9fb78755ad5a"
      },
      "source": [
        "name[::-1]"
      ],
      "execution_count": 25,
      "outputs": [
        {
          "output_type": "execute_result",
          "data": {
            "application/vnd.google.colaboratory.intrinsic+json": {
              "type": "string"
            },
            "text/plain": [
              "'aknayirP'"
            ]
          },
          "metadata": {
            "tags": []
          },
          "execution_count": 25
        }
      ]
    },
    {
      "cell_type": "code",
      "metadata": {
        "colab": {
          "base_uri": "https://localhost:8080/"
        },
        "id": "iP74GWJEhZ2y",
        "outputId": "6b40ee40-ec8b-46d8-c85a-fca9777a4e35"
      },
      "source": [
        "name.split('y')"
      ],
      "execution_count": 28,
      "outputs": [
        {
          "output_type": "execute_result",
          "data": {
            "text/plain": [
              "['Pri', 'anka']"
            ]
          },
          "metadata": {
            "tags": []
          },
          "execution_count": 28
        }
      ]
    },
    {
      "cell_type": "code",
      "metadata": {
        "id": "OirzyoJ6hww5"
      },
      "source": [
        "name=\"ppk@example.com\""
      ],
      "execution_count": 29,
      "outputs": []
    },
    {
      "cell_type": "code",
      "metadata": {
        "id": "3IfA3-Bdh76T"
      },
      "source": [
        "split_name=name.split('@')"
      ],
      "execution_count": 30,
      "outputs": []
    },
    {
      "cell_type": "code",
      "metadata": {
        "colab": {
          "base_uri": "https://localhost:8080/"
        },
        "id": "6F234L0XiDWw",
        "outputId": "df2ce108-b249-419d-bfd0-501e4cbcb7f9"
      },
      "source": [
        "split_name"
      ],
      "execution_count": 31,
      "outputs": [
        {
          "output_type": "execute_result",
          "data": {
            "text/plain": [
              "['ppk', 'example.com']"
            ]
          },
          "metadata": {
            "tags": []
          },
          "execution_count": 31
        }
      ]
    },
    {
      "cell_type": "code",
      "metadata": {
        "id": "NFrwxKoJiFlv"
      },
      "source": [
        ""
      ],
      "execution_count": null,
      "outputs": []
    },
    {
      "cell_type": "code",
      "metadata": {
        "id": "b4xLCbC3hupl"
      },
      "source": [
        ""
      ],
      "execution_count": null,
      "outputs": []
    },
    {
      "cell_type": "code",
      "metadata": {
        "id": "Abi5LVknhpol"
      },
      "source": [
        ""
      ],
      "execution_count": null,
      "outputs": []
    },
    {
      "cell_type": "code",
      "metadata": {
        "colab": {
          "base_uri": "https://localhost:8080/",
          "height": 35
        },
        "id": "61HzObbjhIyd",
        "outputId": "d3bf98dc-b881-47d2-cf09-83af3923ebe4"
      },
      "source": [
        "name"
      ],
      "execution_count": 23,
      "outputs": [
        {
          "output_type": "execute_result",
          "data": {
            "application/vnd.google.colaboratory.intrinsic+json": {
              "type": "string"
            },
            "text/plain": [
              "'Priyanka'"
            ]
          },
          "metadata": {
            "tags": []
          },
          "execution_count": 23
        }
      ]
    },
    {
      "cell_type": "code",
      "metadata": {
        "id": "-1fSoOnEhMJ1"
      },
      "source": [
        ""
      ],
      "execution_count": null,
      "outputs": []
    },
    {
      "cell_type": "code",
      "metadata": {
        "id": "02uTfwAjgGmx"
      },
      "source": [
        ""
      ],
      "execution_count": null,
      "outputs": []
    }
  ]
}